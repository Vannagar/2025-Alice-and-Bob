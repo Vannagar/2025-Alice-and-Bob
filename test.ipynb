{
 "cells": [
  {
   "cell_type": "markdown",
   "id": "df786bb4-3cdc-4f22-9c00-e31025dc0ffd",
   "metadata": {},
   "source": [
    "The state spaces of each oscillator area (memory A, buffer B) are harmonic oscillator spaces. \n",
    "\n",
    "The steady states are Fock states $|\\psi_n\\rangle$. Coherent states $|\\alpha\\rangle$ are eigenstates of annihilation operator $\\hat a$: $\\hat a|\\alpha\\rangle = \\alpha|\\alpha\\rangle$. For memory, use $\\hat a$. For buffer, use $\\hat b$. \n",
    "\n",
    "The qubit states are $|\\pm\\rangle = N(|\\alpha\\rangle \\pm |-\\alpha\\rangle)$. Then, $|0\\rangle \\approx |\\alpha\\rangle$ and $|1\\rangle \\approx |-\\alpha\\rangle$. Here, $|\\alpha\\rangle$ has even and $|-\\alpha\\rangle$ has odd Fock state components only. \n",
    "\n",
    "Wigner plots plot each classical phase point included in a state with its component. \n",
    "\n",
    "Stabilize with two-photon pumping, only two-photon so that $|\\alpha\\rangle$ and $|-\\alpha\\rangle$ do not drift into each other:\n",
    "\n",
    "$$\\hat{L_2} = \\sqrt{\\kappa_2} (\\hat a^2 - \\alpha^2)$$\n",
    "\n",
    "How to accomplish **loss prevention**? \n",
    "\n",
    "* Qubit oscillator in memory a\n",
    "* Lossy oscillator in buffer b\n",
    "\n",
    "If $\\kappa_b \\gg g_2, \\epsilon_d$, buffer b is very lossy, obtain approximately \n",
    "\n",
    "Then, have an exchange of two photons in a for one photon in b, interaction Hamiltonian:\n",
    "\n",
    "$$\\hat H_i = g_2\\hat a^{\\dagger 2}\\hat b + g_2^* \\hat a^2 \\hat b^\\dagger$$\n",
    "\n",
    "How to accomplish **operations**?\n",
    "\n",
    "Resonant drive of buffer mode:\n",
    "$$\\hat H_d = \\epsilon_d^* \\hat b + \\epsilon_d \\hat b^\\dagger$$\n",
    "\n",
    "\n",
    "\n"
   ]
  },
  {
   "cell_type": "code",
   "execution_count": null,
   "id": "4e674f6c-2169-4846-a6f7-e40cbab056da",
   "metadata": {},
   "outputs": [],
   "source": []
  },
  {
   "cell_type": "code",
   "execution_count": null,
   "id": "a03e0e4d-8a73-4c3c-8209-d4c63d02e513",
   "metadata": {},
   "outputs": [],
   "source": []
  },
  {
   "cell_type": "code",
   "execution_count": null,
   "id": "3177edc6-4d97-4547-9e3a-96531be0983d",
   "metadata": {},
   "outputs": [],
   "source": []
  }
 ],
 "metadata": {
  "kernelspec": {
   "display_name": "Python 3 [Default]",
   "language": "python",
   "name": "python3"
  },
  "language_info": {
   "codemirror_mode": {
    "name": "ipython",
    "version": 3
   },
   "file_extension": ".py",
   "mimetype": "text/x-python",
   "name": "python",
   "nbconvert_exporter": "python",
   "pygments_lexer": "ipython3",
   "version": "3.11.9"
  }
 },
 "nbformat": 4,
 "nbformat_minor": 5
}
