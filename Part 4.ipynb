{
 "cells": [
  {
   "cell_type": "code",
   "execution_count": 1,
   "metadata": {},
   "outputs": [],
   "source": [
    "import numpy as np\n",
    "import dynamiqs as dq"
   ]
  },
  {
   "cell_type": "markdown",
   "metadata": {},
   "source": [
    "Task 1.1"
   ]
  },
  {
   "cell_type": "code",
   "execution_count": null,
   "metadata": {},
   "outputs": [],
   "source": [
    "# Parameters\n",
    "na = 20 # Hilbert space dimension\n",
    "nb = 5\n",
    "g2 = 1\n",
    "epsilon_d = -4\n",
    "kappa_b = 10\n",
    "\n",
    "adag = dq.create(na)\n",
    "a = dq.destroy(na)\n",
    "a_id, id = dq.destroy(na, nb)\n",
    "bdag = dq.create(nb)\n",
    "b = dq.destroy(nb)\n",
    "id, id_bdag = dq.create(na, nb)\n",
    "H_2ph = g2 * dq.tensor(adag @ adag, b) + dq.dag(g2 * dq.tensor(adag @ adag, b))\n",
    "H_d = epsilon_d * id_bdag + dq.dag(epsilon_d * id_bdag)\n",
    "\n",
    "psi0 = dq.fock((na, nb), (0, 0)) # initial state\n",
    "H = H_2ph + H_d\n",
    "# H = dq.zero(na)\n",
    "kappa_2 = 1 # two-photon loss rate\n",
    "alpha = 2.0 # cat size\n",
    "tsave = np.linspace(0, 4, 100)\n",
    "loss_op = dq.asqarray(np.sqrt(kappa_b)*dq.dag(id_bdag), dims=(20,5)) # loss operator\n",
    "res = dq.mesolve(H, [loss_op], psi0, tsave)\n",
    "states = dq.ptrace(res.states, 0, (na,nb))\n",
    "dq.plot.wigner_gif(states)"
   ]
  },
  {
   "cell_type": "markdown",
   "metadata": {},
   "source": [
    "\n",
    "# Gradient Descent Optimization of Time-Dependent Drive\n",
    "\n",
    "This code performs gradient descent optimization to find the optimal drive amplitude ε_d(t) that creates a target quantum state. The drive is represented as a piecewise constant function, discretized into 100 time steps over a duration of 3.0 time units.\n",
    "\n",
    "1. **Time Discretization**:\n",
    "   - Total time T = 3.0\n",
    "   - Number of time steps = 100\n",
    "   - Each element in ε_d represents the drive amplitude for one time step\n",
    "\n",
    "2. **Loss Function**:\n",
    "   - Evolves the quantum state using the master equation\n",
    "   - Calculates fidelity with target Fock state |n=4⟩\n",
    "   - Returns 1 - fidelity (to minimize)\n",
    "\n",
    "4. **Optimization**:\n",
    "   - Initial guess: ε_d(t) = -4.0 for all t\n",
    "   - Learning rate = 1.0\n",
    "\n",
    "The gradient descent optimizes over the entire vector of drive amplitudes simultaneously, finding the time-dependent control that best creates our target state."
   ]
  },
  {
   "cell_type": "code",
   "execution_count": 3,
   "metadata": {},
   "outputs": [
    {
     "name": "stderr",
     "output_type": "stream",
     "text": [
      "|██████████| 100.0% ◆ elapsed 12m22s ◆ remaining 0.00ms\n"
     ]
    },
    {
     "ename": "KeyboardInterrupt",
     "evalue": "",
     "output_type": "error",
     "traceback": [
      "\u001b[0;31m---------------------------------------------------------------------------\u001b[0m",
      "\u001b[0;31mKeyboardInterrupt\u001b[0m                         Traceback (most recent call last)",
      "Cell \u001b[0;32mIn[3], line 56\u001b[0m\n\u001b[1;32m     53\u001b[0m eps_d_list \u001b[38;5;241m=\u001b[39m eps_d_list \u001b[38;5;241m-\u001b[39m learning_rate \u001b[38;5;241m*\u001b[39m grad\n\u001b[1;32m     55\u001b[0m \u001b[38;5;66;03m# Calculate and store loss\u001b[39;00m\n\u001b[0;32m---> 56\u001b[0m loss \u001b[38;5;241m=\u001b[39m \u001b[43mloss_function\u001b[49m\u001b[43m(\u001b[49m\u001b[43meps_d_list\u001b[49m\u001b[43m)\u001b[49m\n\u001b[1;32m     57\u001b[0m \u001b[38;5;28mprint\u001b[39m(grad)\n\u001b[1;32m     58\u001b[0m \u001b[38;5;28mprint\u001b[39m(loss)\n",
      "Cell \u001b[0;32mIn[3], line 29\u001b[0m, in \u001b[0;36mloss_function\u001b[0;34m(eps_d)\u001b[0m\n\u001b[1;32m     27\u001b[0m \u001b[38;5;66;03m# Calculate expectation value of number operator\u001b[39;00m\n\u001b[1;32m     28\u001b[0m n_final \u001b[38;5;241m=\u001b[39m dq\u001b[38;5;241m.\u001b[39mptrace(result\u001b[38;5;241m.\u001b[39mstates, \u001b[38;5;241m0\u001b[39m, (na,nb))[\u001b[38;5;241m-\u001b[39m\u001b[38;5;241m1\u001b[39m]\n\u001b[0;32m---> 29\u001b[0m \u001b[38;5;28mprint\u001b[39m(n_final, \u001b[43mdq\u001b[49m\u001b[38;5;241;43m.\u001b[39;49m\u001b[43mfock\u001b[49m\u001b[43m(\u001b[49m\u001b[43mna\u001b[49m\u001b[43m,\u001b[49m\u001b[43m \u001b[49m\u001b[38;5;241;43m4\u001b[39;49m\u001b[43m)\u001b[49m)\n\u001b[1;32m     31\u001b[0m \u001b[38;5;66;03m# Loss is difference from target alpha squared\u001b[39;00m\n\u001b[1;32m     32\u001b[0m val \u001b[38;5;241m=\u001b[39m \u001b[38;5;241m1\u001b[39m \u001b[38;5;241m-\u001b[39m dq\u001b[38;5;241m.\u001b[39mfidelity(n_final, dq\u001b[38;5;241m.\u001b[39mfock(na, \u001b[38;5;241m4\u001b[39m))\n",
      "File \u001b[0;32m/opt/conda/lib/python3.11/site-packages/dynamiqs/utils/states.py:104\u001b[0m, in \u001b[0;36mfock\u001b[0;34m(dim, number)\u001b[0m\n\u001b[1;32m     98\u001b[0m     \u001b[38;5;28;01mraise\u001b[39;00m \u001b[38;5;167;01mValueError\u001b[39;00m(\n\u001b[1;32m     99\u001b[0m         \u001b[38;5;124m'\u001b[39m\u001b[38;5;124mArgument `number` must have shape `(...)` or `(..., len(dim))`, but\u001b[39m\u001b[38;5;124m'\u001b[39m\n\u001b[1;32m    100\u001b[0m         \u001b[38;5;124mf\u001b[39m\u001b[38;5;124m'\u001b[39m\u001b[38;5;124m has shape number.shape=\u001b[39m\u001b[38;5;132;01m{\u001b[39;00mnumber\u001b[38;5;241m.\u001b[39mshape\u001b[38;5;132;01m}\u001b[39;00m\u001b[38;5;124m.\u001b[39m\u001b[38;5;124m'\u001b[39m\n\u001b[1;32m    101\u001b[0m     )\n\u001b[1;32m    103\u001b[0m \u001b[38;5;66;03m# check if 0 <= number[..., i] < dim[i] for all i\u001b[39;00m\n\u001b[0;32m--> 104\u001b[0m number \u001b[38;5;241m=\u001b[39m \u001b[43meqx\u001b[49m\u001b[38;5;241;43m.\u001b[39;49m\u001b[43merror_if\u001b[49m\u001b[43m(\u001b[49m\n\u001b[1;32m    105\u001b[0m \u001b[43m    \u001b[49m\u001b[43mnumber\u001b[49m\u001b[43m,\u001b[49m\n\u001b[1;32m    106\u001b[0m \u001b[43m    \u001b[49m\u001b[43mdim\u001b[49m\u001b[43m \u001b[49m\u001b[38;5;241;43m-\u001b[39;49m\u001b[43m \u001b[49m\u001b[43mnumber\u001b[49m\u001b[43m \u001b[49m\u001b[38;5;241;43m<\u001b[39;49m\u001b[38;5;241;43m=\u001b[39;49m\u001b[43m \u001b[49m\u001b[38;5;241;43m0\u001b[39;49m\u001b[43m,\u001b[49m\n\u001b[1;32m    107\u001b[0m \u001b[43m    \u001b[49m\u001b[38;5;124;43m'\u001b[39;49m\u001b[38;5;124;43mArgument `number` must be in the range [0, dim[i]) for each mode i:\u001b[39;49m\u001b[38;5;124;43m'\u001b[39;49m\n\u001b[1;32m    108\u001b[0m \u001b[43m    \u001b[49m\u001b[38;5;124;43m'\u001b[39;49m\u001b[38;5;124;43m 0 <= number[..., i] < dim[i].\u001b[39;49m\u001b[38;5;124;43m'\u001b[39;49m\u001b[43m,\u001b[49m\n\u001b[1;32m    109\u001b[0m \u001b[43m\u001b[49m\u001b[43m)\u001b[49m\n\u001b[1;32m    111\u001b[0m \u001b[38;5;66;03m# compute all kets\u001b[39;00m\n\u001b[1;32m    112\u001b[0m \u001b[38;5;28;01mdef\u001b[39;00m \u001b[38;5;21m_fock\u001b[39m(number: Array) \u001b[38;5;241m-\u001b[39m\u001b[38;5;241m>\u001b[39m QArray:\n\u001b[1;32m    113\u001b[0m     \u001b[38;5;66;03m# return the tensor product of Fock states |n0> x |n1> x ... x |nf> where dim\u001b[39;00m\n\u001b[1;32m    114\u001b[0m     \u001b[38;5;66;03m# has shape (ndim,), number has shape (ndim,) and number = [n0, n1,..., nf]\u001b[39;00m\n\u001b[1;32m    115\u001b[0m     \u001b[38;5;66;03m# this is the unbatched version of fock()\u001b[39;00m\n",
      "File \u001b[0;32m/opt/conda/lib/python3.11/site-packages/equinox/_errors.py:257\u001b[0m, in \u001b[0;36merror_if\u001b[0;34m(x, pred, msg, on_error)\u001b[0m\n\u001b[1;32m    198\u001b[0m \u001b[38;5;129m@doc_remove_args\u001b[39m(\u001b[38;5;124m\"\u001b[39m\u001b[38;5;124mon_error\u001b[39m\u001b[38;5;124m\"\u001b[39m)\n\u001b[1;32m    199\u001b[0m \u001b[38;5;28;01mdef\u001b[39;00m \u001b[38;5;21merror_if\u001b[39m(\n\u001b[1;32m    200\u001b[0m     x: PyTree,\n\u001b[0;32m   (...)\u001b[0m\n\u001b[1;32m    204\u001b[0m     on_error: Literal[\u001b[38;5;124m\"\u001b[39m\u001b[38;5;124mdefault\u001b[39m\u001b[38;5;124m\"\u001b[39m, \u001b[38;5;124m\"\u001b[39m\u001b[38;5;124mraise\u001b[39m\u001b[38;5;124m\"\u001b[39m, \u001b[38;5;124m\"\u001b[39m\u001b[38;5;124mbreakpoint\u001b[39m\u001b[38;5;124m\"\u001b[39m, \u001b[38;5;124m\"\u001b[39m\u001b[38;5;124mnan\u001b[39m\u001b[38;5;124m\"\u001b[39m] \u001b[38;5;241m=\u001b[39m \u001b[38;5;124m\"\u001b[39m\u001b[38;5;124mdefault\u001b[39m\u001b[38;5;124m\"\u001b[39m,\n\u001b[1;32m    205\u001b[0m ) \u001b[38;5;241m-\u001b[39m\u001b[38;5;241m>\u001b[39m PyTree:\n\u001b[1;32m    206\u001b[0m \u001b[38;5;250m    \u001b[39m\u001b[38;5;124;03m\"\"\"Throws an error based on runtime values. Works even under JIT.\u001b[39;00m\n\u001b[1;32m    207\u001b[0m \n\u001b[1;32m    208\u001b[0m \u001b[38;5;124;03m    **Arguments:**\u001b[39;00m\n\u001b[0;32m   (...)\u001b[0m\n\u001b[1;32m    255\u001b[0m \u001b[38;5;124;03m        ```\u001b[39;00m\n\u001b[1;32m    256\u001b[0m \u001b[38;5;124;03m    \"\"\"\u001b[39;00m\n\u001b[0;32m--> 257\u001b[0m     \u001b[38;5;28;01mreturn\u001b[39;00m \u001b[43mbranched_error_if\u001b[49m\u001b[43m(\u001b[49m\u001b[43mx\u001b[49m\u001b[43m,\u001b[49m\u001b[43m \u001b[49m\u001b[43mpred\u001b[49m\u001b[43m,\u001b[49m\u001b[43m \u001b[49m\u001b[38;5;241;43m0\u001b[39;49m\u001b[43m,\u001b[49m\u001b[43m \u001b[49m\u001b[43m[\u001b[49m\u001b[43mmsg\u001b[49m\u001b[43m]\u001b[49m\u001b[43m,\u001b[49m\u001b[43m \u001b[49m\u001b[43mon_error\u001b[49m\u001b[38;5;241;43m=\u001b[39;49m\u001b[43mon_error\u001b[49m\u001b[43m)\u001b[49m\n",
      "File \u001b[0;32m/opt/conda/lib/python3.11/site-packages/equinox/_errors.py:278\u001b[0m, in \u001b[0;36mbranched_error_if\u001b[0;34m(x, pred, index, msgs, on_error)\u001b[0m\n\u001b[1;32m    274\u001b[0m \u001b[38;5;66;03m# This carefully does not perform any JAX operations if `pred` and `index` are\u001b[39;00m\n\u001b[1;32m    275\u001b[0m \u001b[38;5;66;03m# a bool and an int.\u001b[39;00m\n\u001b[1;32m    276\u001b[0m \u001b[38;5;66;03m# This ensures we can use `error_if` before init_google.\u001b[39;00m\n\u001b[1;32m    277\u001b[0m \u001b[38;5;28;01mif\u001b[39;00m \u001b[38;5;28many\u001b[39m(is_array(leaf) \u001b[38;5;28;01mfor\u001b[39;00m leaf \u001b[38;5;129;01min\u001b[39;00m leaves):\n\u001b[0;32m--> 278\u001b[0m     \u001b[38;5;28;01mreturn\u001b[39;00m \u001b[43mbranched_error_if_impl_jit\u001b[49m\u001b[43m(\u001b[49m\u001b[43mx\u001b[49m\u001b[43m,\u001b[49m\u001b[43m \u001b[49m\u001b[43mpred\u001b[49m\u001b[43m,\u001b[49m\u001b[43m \u001b[49m\u001b[43mindex\u001b[49m\u001b[43m,\u001b[49m\u001b[43m \u001b[49m\u001b[43mmsgs\u001b[49m\u001b[43m,\u001b[49m\u001b[43m \u001b[49m\u001b[43mon_error\u001b[49m\u001b[38;5;241;43m=\u001b[39;49m\u001b[43mon_error\u001b[49m\u001b[43m)\u001b[49m\n\u001b[1;32m    279\u001b[0m \u001b[38;5;28;01melse\u001b[39;00m:\n\u001b[1;32m    280\u001b[0m     \u001b[38;5;28;01mreturn\u001b[39;00m branched_error_if_impl(x, pred, index, msgs, on_error\u001b[38;5;241m=\u001b[39mon_error)\n",
      "    \u001b[0;31m[... skipping hidden 2 frame]\u001b[0m\n",
      "File \u001b[0;32m/opt/conda/lib/python3.11/site-packages/equinox/_jit.py:248\u001b[0m, in \u001b[0;36m_JitWrapper._call\u001b[0;34m(self, is_lower, args, kwargs)\u001b[0m\n\u001b[1;32m    244\u001b[0m         marker, _, _ \u001b[38;5;241m=\u001b[39m out \u001b[38;5;241m=\u001b[39m \u001b[38;5;28mself\u001b[39m\u001b[38;5;241m.\u001b[39m_cached(\n\u001b[1;32m    245\u001b[0m             dynamic_donate, dynamic_nodonate, static\n\u001b[1;32m    246\u001b[0m         )\n\u001b[1;32m    247\u001b[0m     \u001b[38;5;28;01mif\u001b[39;00m \u001b[38;5;129;01mnot\u001b[39;00m jitting:\n\u001b[0;32m--> 248\u001b[0m         \u001b[43mmarker\u001b[49m\u001b[38;5;241;43m.\u001b[39;49m\u001b[43mblock_until_ready\u001b[49m\u001b[43m(\u001b[49m\u001b[43m)\u001b[49m\n\u001b[1;32m    249\u001b[0m \u001b[38;5;28;01mexcept\u001b[39;00m JaxRuntimeError \u001b[38;5;28;01mas\u001b[39;00m e:\n\u001b[1;32m    250\u001b[0m     \u001b[38;5;66;03m# Catch Equinox's runtime errors, and re-raise them with actually useful\u001b[39;00m\n\u001b[1;32m    251\u001b[0m     \u001b[38;5;66;03m# information. (By default XlaRuntimeError produces a lot of terrifying\u001b[39;00m\n\u001b[1;32m    252\u001b[0m     \u001b[38;5;66;03m# but useless information.)\u001b[39;00m\n\u001b[1;32m    253\u001b[0m     \u001b[38;5;28;01mif\u001b[39;00m (\n\u001b[1;32m    254\u001b[0m         last_msg \u001b[38;5;129;01mis\u001b[39;00m \u001b[38;5;129;01mnot\u001b[39;00m \u001b[38;5;28;01mNone\u001b[39;00m\n\u001b[1;32m    255\u001b[0m         \u001b[38;5;129;01mand\u001b[39;00m last_stack \u001b[38;5;129;01mis\u001b[39;00m \u001b[38;5;129;01mnot\u001b[39;00m \u001b[38;5;28;01mNone\u001b[39;00m\n\u001b[0;32m   (...)\u001b[0m\n\u001b[1;32m    260\u001b[0m         \u001b[38;5;66;03m# callback necessarily executed in the same interpreter as we are in\u001b[39;00m\n\u001b[1;32m    261\u001b[0m         \u001b[38;5;66;03m# here?\u001b[39;00m\n",
      "\u001b[0;31mKeyboardInterrupt\u001b[0m: "
     ]
    }
   ],
   "source": [
    "import jax\n",
    "import jax.numpy as jnp\n",
    "\n",
    "T = 3.0\n",
    "nit = 20  # Number of time steps\n",
    "tsave = jnp.linspace(0, T, nit)\n",
    "id, id_bdag = dq.create(na, nb)\n",
    "\n",
    "def loss_function(eps_d):\n",
    "    \"\"\"Calculate loss for given piecewise constant control\"\"\"\n",
    "    # Two-photon exchange Hamiltonian (time-independent)\n",
    "    H_2ph = g2 * dq.tensor(adag @ adag, b) + dq.dag(g2 * dq.tensor(adag @ adag, b))\n",
    "    \n",
    "    def H_d_t(t):\n",
    "        # Use jnp.asarray to handle both QArray and float inputs\n",
    "        t_val = jnp.asarray(t, dtype=float)\n",
    "        # Convert time to index\n",
    "        idx = jnp.clip(jnp.floor(t_val/T * (nit-1)), 0, nit-1).astype(jnp.int32)\n",
    "        return eps_d[idx] * id_bdag + jnp.conj(eps_d[idx]) * id_bdag\n",
    "    \n",
    "    H_d = dq.timecallable(lambda t: H_d_t(t))  # Ensure dimensions match\n",
    "    H = H_2ph + H_d\n",
    "    \n",
    "    # Evolve system\n",
    "    result = dq.mesolve(H, [loss_op], psi0, tsave)\n",
    "    \n",
    "    # Calculate expectation value of number operator\n",
    "    n_final = dq.ptrace(result.states, 0, (na,nb))[-1]\n",
    "    print(n_final, dq.fock(na, 4))\n",
    "    \n",
    "    # Loss is difference from target alpha squared\n",
    "    val = 1 - dq.fidelity(n_final, dq.fock(na, 4))\n",
    "    return val\n",
    "\n",
    "# Initial guess for epsilon_d\n",
    "eps_d_list = np.array([-3.0 for _ in range(nit)])\n",
    "\n",
    "# Gradient descent parameters\n",
    "learning_rate = 1\n",
    "num_iterations = 25\n",
    "\n",
    "# Compile gradient function\n",
    "grad_fn = jax.jit(jax.grad(loss_function))\n",
    "\n",
    "# Store loss history\n",
    "loss_history = []\n",
    "\n",
    "# Gradient descent loop\n",
    "for i in range(num_iterations):\n",
    "    # Calculate gradient\n",
    "    grad = grad_fn(eps_d_list)\n",
    "    # Update parameters\n",
    "    eps_d_list = eps_d_list - learning_rate * grad\n",
    "    \n",
    "    # Calculate and store loss\n",
    "    loss = loss_function(eps_d_list)\n",
    "    print(grad)\n",
    "    print(loss)"
   ]
  },
  {
   "cell_type": "code",
   "execution_count": null,
   "metadata": {},
   "outputs": [],
   "source": [
    "eps_d_list"
   ]
  },
  {
   "cell_type": "code",
   "execution_count": null,
   "metadata": {},
   "outputs": [],
   "source": [
    "import matplotlib.pyplot as plt\n",
    "\n",
    "plt.plot(tsave, eps_d_list)\n",
    "plt.xlabel('Time')\n",
    "plt.ylabel(r'$\\epsilon_d$')\n",
    "plt.show()"
   ]
  },
  {
   "cell_type": "code",
   "execution_count": null,
   "metadata": {},
   "outputs": [],
   "source": []
  }
 ],
 "metadata": {
  "kernelspec": {
   "display_name": "Python 3 [Default]",
   "language": "python",
   "name": "python3"
  },
  "language_info": {
   "codemirror_mode": {
    "name": "ipython",
    "version": 3
   },
   "file_extension": ".py",
   "mimetype": "text/x-python",
   "name": "python",
   "nbconvert_exporter": "python",
   "pygments_lexer": "ipython3",
   "version": "3.11.9"
  }
 },
 "nbformat": 4,
 "nbformat_minor": 2
}
