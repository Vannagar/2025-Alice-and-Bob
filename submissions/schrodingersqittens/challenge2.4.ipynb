{
 "cells": [
  {
   "cell_type": "markdown",
   "id": "d82e39d2-a395-4d7a-b1d4-0b6ec3d9aa47",
   "metadata": {},
   "source": [
    "The expectation value of $a^2$ goes from $0$ to $\\alpha^2$ as the state goes from $|\\psi_0\\rangle$, the vacuum state, to $|+\\rangle$. We want to add terms to the Hamiltonian with large commutators with $a^2$, as $\\frac{d}{dt}\\langle a^2\\rangle = \\frac{1}{i\\hbar}\\langle [a^2, H] \\rangle$. Consider a sequence of interlocking DC-SQIDs with each $\\phi$ of a DC-SQID's Josephson junction being the $\\phi_{ext}$ for the next. Now, suppose the sequence loops back on itelf. In particular, let the number of loops be 3. Let the phases be $\\phi_1, \\phi_2, \\phi_3$. Using the quadratic Taylor series for cosine, the Hamiltonian is\n",
    "\n",
    "$$-E((l_1 + l_2 + l_3) - l_1\\phi_1^2 - l_2\\phi_2^2 - l_3\\phi_3^2) - F((l_1 + l_2 + l_3) - l_1(\\phi_1 - \\phi_2)^2 - l_2(\\phi_2 - \\phi_3)^2 - l_3(\\phi_3 - \\phi_1)^2).$$\n",
    "\n",
    "Here $E$ and $F$ are characteristic energies and $l_1, l_2, l_3$ represent the relative energies. This equals\n",
    "\n",
    "$$-(l_1 + l_2 + l_3)(E + F) + E(l_1\\phi_1^2 + l_2\\phi_2^2 + l_3\\phi_3^2) + F((l_3 + l_1)\\phi_1^2 + (l_1 + l_2)\\phi_2^2 + (l_3 + l_1)\\phi_3^2 - l_1\\{\\phi_1, \\phi_2\\} - l_2\\{\\phi_2, \\phi_3\\} - l_3\\{\\phi_3, \\phi_1\\}).$$\n",
    "\n",
    "We can couple the $\\phi_j$ by driving each Josephson voltage $V_j$, which is proportional to the time derivative of $\\phi_j$ by Josephson equation,  to the previous $\\phi_{j - 1}$ by a linear relation. As a changing flux $\\phi_j$ can induce an EMF proportional to its rate of change, a further phase shift in the EMF can produce the voltage. This produces a commutation relation of the form\n",
    "\n",
    "$$[\\phi_j, \\phi_{j + 1}] = iC_j,$$\n",
    "\n",
    "similar to the position-momentum commutator, where $C_j$ is some real constant proportional to coupling strength. As \n",
    "\n",
    "$$\\{A, B\\} = 2AB - [A, B],$$\n",
    "\n",
    "the Hamiltonian becomes\n",
    "\n",
    "$$K_1 + K_2(l_1\\phi_1^2 + l_2\\phi_2^2 + l_3\\phi_3^2) + K_3(l_1\\phi_1\\phi_2 + l_2\\phi_2\\phi_3 + l_3\\phi_3\\phi_1)$$\n",
    "\n",
    "for some constants $K_1, K_2, K_3$. The commutator $[\\phi_1, \\phi_1\\phi_2]$ is\n",
    "\n",
    "$$\\phi_1^2\\phi_2 - \\phi_1\\phi_2\\phi_1 = \\phi_1[\\phi_1, \\phi_2] = i\\phi_1 C_1$$\n",
    "\n",
    "whereas the commutator $[\\phi_1, \\phi_3\\phi_1]$ is\n",
    "\n",
    "$$\\phi_1\\phi_3\\phi_1 - \\phi_3\\phi_1^2 = -[\\phi_3, \\phi_1]\\phi_1 = -i\\phi_1 C_1$$\n",
    "\n",
    "and the commutator $[\\phi_1, \\phi_2\\phi_3]$ is\n",
    "\n",
    "$$\\phi_1\\phi_2\\phi_3 - \\phi_2\\phi_3\\phi_1 = ([\\phi_1, \\phi_2] + \\phi_2\\phi_1)\\phi_3 - \\phi_2\\phi_3\\phi_1$$\n",
    "$$ = iC_1\\phi_3 + \\phi_2[\\phi_1, \\phi_3] = iC_1\\phi_3 - iC_3\\phi_2.$$\n",
    "\n",
    "If $l_1 = l_2 = l_3$ and $C_1 = C_2 = C_3 = C$, the commutator $[\\phi_1, H]$ is $iC(\\phi_3 - \\phi_2)$.\n",
    "\n",
    "The commutator $[\\phi_1^2, H]$ is \n",
    "\n",
    "$$\\phi_1^2 H - H\\phi_1^2 = \\phi_1([\\phi_1, H] + H \\phi_1) - H\\phi_1^2$$\n",
    "$$= iC\\phi_1(\\phi_3 - \\phi_2) + iC(\\phi_3 - \\phi_2)\\phi_1 = iC\\{\\phi_1, \\phi_3 - \\phi_2\\}$$\n",
    "$$= 2iC\\phi_1(\\phi_3 - \\phi_2) - 2C^2 = 2[\\phi_1, H] - 2C^2.$$\n",
    "\n",
    "Thus, $[\\phi_1^2 - 2\\phi_1, H] = -2C^2$. Equilvalently, $[(\\phi_1 - 1)^2, H] = -2C^2$. By using $\\phi_1 = a + a^\\dagger$ by coupling it to an oscillator like usual, $(\\phi_1 - 1)^2 \\approx a^2$ and so $[a^2, H]$ is about proportional to $C^2$. By strengthening the coupling, the value of $\\langle a^2 \\rangle$ can increase more quickly. "
   ]
  }
 ],
 "metadata": {
  "kernelspec": {
   "display_name": "Python 3 (ipykernel)",
   "language": "python",
   "name": "python3"
  },
  "language_info": {
   "codemirror_mode": {
    "name": "ipython",
    "version": 3
   },
   "file_extension": ".py",
   "mimetype": "text/x-python",
   "name": "python",
   "nbconvert_exporter": "python",
   "pygments_lexer": "ipython3",
   "version": "3.13.1"
  }
 },
 "nbformat": 4,
 "nbformat_minor": 5
}
